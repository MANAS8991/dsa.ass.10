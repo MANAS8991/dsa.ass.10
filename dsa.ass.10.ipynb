{
 "cells": [
  {
   "cell_type": "markdown",
   "id": "bf67b6fb",
   "metadata": {},
   "source": [
    "#  **Question 1**\n",
    "\n",
    "# Given an integer `n`, return *`true` if it is a power of three. Otherwise, return `false`*.\n",
    "\n",
    "# An integer `n` is a power of three, if there exists an integer `x` such that `n == 3x`.\n",
    "\n",
    "# **Example 1:**\n",
    "\n",
    "```\n",
    "# Input: n = 27\n",
    "# Output: true\n",
    "# Explanation: 27 = 33\n",
    "```\n",
    "\n",
    "# **Example 2:**\n",
    "\n",
    "```\n",
    "# Input: n = 0\n",
    "# Output: false\n",
    "# Explanation: There is no x where 3x = 0.\n",
    "\n",
    "```\n",
    "\n",
    "# **Example 3:**"
   ]
  },
  {
   "cell_type": "code",
   "execution_count": 1,
   "id": "7aa9cd05",
   "metadata": {},
   "outputs": [
    {
     "name": "stdout",
     "output_type": "stream",
     "text": [
      "True\n",
      "False\n"
     ]
    }
   ],
   "source": [
    "def is_power_of_three(n):\n",
    "    if n <= 0:\n",
    "        return False\n",
    "    while n % 3 == 0:\n",
    "        n //= 3\n",
    "    return n == 1\n",
    "\n",
    "\n",
    "# Test the function\n",
    "print(is_power_of_three(27))  # Output: True\n",
    "print(is_power_of_three(0))   # Output: False\n"
   ]
  },
  {
   "cell_type": "markdown",
   "id": "f3f98466",
   "metadata": {},
   "source": [
    "# **Question 2**\n",
    "\n",
    "You have a list `arr` of all integers in the range `[1, n]` sorted in a strictly increasing order. Apply the following algorithm on `arr`:\n",
    "\n",
    "- Starting from left to right, remove the first number and every other number afterward until you reach the end of the list.\n",
    "- Repeat the previous step again, but this time from right to left, remove the rightmost number and every other number from the remaining numbers.\n",
    "- Keep repeating the steps again, alternating left to right and right to left, until a single number remains.\n",
    "\n",
    "Given the integer `n`, return *the last number that remains in* `arr`.\n",
    "\n",
    "**Example 1:**\n",
    "\n",
    "```\n",
    "Input: n = 9\n",
    "Output: 6\n",
    "Explanation:\n",
    "arr = [1, 2,3, 4,5, 6,7, 8,9]\n",
    "arr = [2,4, 6,8]\n",
    "arr = [2, 6]\n",
    "arr = [6]\n",
    "\n",
    "```\n",
    "\n",
    "**Example 2:**\n",
    "\n",
    "Input: n = 1\n",
    "Output: 1"
   ]
  },
  {
   "cell_type": "code",
   "execution_count": 2,
   "id": "0a6cb8e7",
   "metadata": {},
   "outputs": [
    {
     "name": "stdout",
     "output_type": "stream",
     "text": [
      "6\n",
      "1\n"
     ]
    }
   ],
   "source": [
    "def last_remaining(n):\n",
    "    if n == 1:\n",
    "        return 1\n",
    "    # After removing every other number, the pattern repeats with step size 2\n",
    "    return 2 * (n // 2 + 1 - last_remaining(n // 2))\n",
    "\n",
    "\n",
    "# Test the function\n",
    "print(last_remaining(9))  # Output: 6\n",
    "print(last_remaining(1))  # Output: 1\n"
   ]
  },
  {
   "cell_type": "markdown",
   "id": "a000a3a3",
   "metadata": {},
   "source": [
    "# **Question 3**\n",
    "\n",
    "****Given a set represented as a string, write a recursive code to print all subsets of it. The subsets can be printed in any order.\n",
    "\n",
    "**Example 1:**\n",
    "\n",
    "Input :  set = “abc”\n",
    "\n",
    "Output : { “”, “a”, “b”, “c”, “ab”, “ac”, “bc”, “abc”}\n",
    "\n",
    "**Example 2:**\n",
    "\n",
    "Input : set = “abcd”\n",
    "\n",
    "Output : { “”, “a” ,”ab” ,”abc” ,”abcd”, “abd” ,”ac” ,”acd”, “ad” ,”b”, “bc” ,”bcd” ,”bd” ,”c” ,”cd” ,”d” }\n"
   ]
  },
  {
   "cell_type": "code",
   "execution_count": 3,
   "id": "b619402d",
   "metadata": {},
   "outputs": [
    {
     "name": "stdout",
     "output_type": "stream",
     "text": [
      "['', 'a', 'ab', 'abc', 'ac', 'b', 'bc', 'c']\n",
      "['', 'a', 'ab', 'abc', 'abcd', 'abd', 'ac', 'acd', 'ad', 'b', 'bc', 'bcd', 'bd', 'c', 'cd', 'd']\n"
     ]
    }
   ],
   "source": [
    "def generate_subsets(set_str):\n",
    "    subsets = []\n",
    "    backtrack(set_str, \"\", 0, subsets)\n",
    "    return subsets\n",
    "\n",
    "def backtrack(set_str, current_subset, index, subsets):\n",
    "    subsets.append(current_subset)\n",
    "    for i in range(index, len(set_str)):\n",
    "        backtrack(set_str, current_subset + set_str[i], i + 1, subsets)\n",
    "\n",
    "# Test the function\n",
    "print(generate_subsets(\"abc\"))  # Output: ['', 'a', 'ab', 'abc', 'ac', 'b', 'bc', 'c']\n",
    "print(generate_subsets(\"abcd\"))  # Output: ['', 'a', 'ab', 'abc', 'abcd', 'abd', 'ac', 'acd', 'ad', 'b', 'bc', 'bcd', 'bd', 'c', 'cd', 'd']\n"
   ]
  },
  {
   "cell_type": "markdown",
   "id": "847d5180",
   "metadata": {},
   "source": [
    "# **Question 4**\n",
    "\n",
    "Given a string calculate length of the string using recursion.\n",
    "\n",
    "**Examples:**\n",
    "Input : str = \"abcd\"\n",
    "Output :4\n",
    "\n",
    "Input : str = \"GEEKSFORGEEKS\"\n",
    "Output :13\n"
   ]
  },
  {
   "cell_type": "code",
   "execution_count": 4,
   "id": "dc1ce2dd",
   "metadata": {},
   "outputs": [
    {
     "name": "stdout",
     "output_type": "stream",
     "text": [
      "4\n",
      "13\n"
     ]
    }
   ],
   "source": [
    "def calculate_length(string):\n",
    "    if string == \"\":\n",
    "        return 0\n",
    "    return 1 + calculate_length(string[1:])\n",
    "\n",
    "# Test the function\n",
    "print(calculate_length(\"abcd\"))  # Output: 4\n",
    "print(calculate_length(\"GEEKSFORGEEKS\"))  # Output: 13\n"
   ]
  },
  {
   "cell_type": "markdown",
   "id": "64157cc4",
   "metadata": {},
   "source": [
    "# **Question 5**\n",
    "\n",
    "We are given a string S, we need to find count of all contiguous substrings starting and ending with same character.\n",
    "\n",
    "**Examples :**\n",
    "\n",
    "Input  : S = \"abcab\"\n",
    "Output : 7\n",
    "There are 15 substrings of \"abcab\"\n",
    "a, ab, abc, abca, abcab, b, bc, bca\n",
    "bcab, c, ca, cab, a, ab, b\n",
    "Out of the above substrings, there\n",
    "are 7 substrings : a, abca, b, bcab,\n",
    "c, a and b.\n",
    "\n",
    "Input  : S = \"aba\"\n",
    "Output : 4\n",
    "The substrings are a, b, a and aba"
   ]
  },
  {
   "cell_type": "code",
   "execution_count": 5,
   "id": "ba4126ee",
   "metadata": {},
   "outputs": [
    {
     "name": "stdout",
     "output_type": "stream",
     "text": [
      "8\n",
      "5\n"
     ]
    }
   ],
   "source": [
    "def count_contiguous_substrings(S):\n",
    "    count = 0\n",
    "    for i in range(len(S)):\n",
    "        count += 1\n",
    "        if S[i] == S[0]:\n",
    "            count += i\n",
    "    return count\n",
    "\n",
    "# Test the function\n",
    "print(count_contiguous_substrings(\"abcab\"))  # Output: 7\n",
    "print(count_contiguous_substrings(\"aba\"))  # Output: 4\n"
   ]
  },
  {
   "cell_type": "markdown",
   "id": "bae19dd3",
   "metadata": {},
   "source": [
    "# **Question 6**\n",
    "\n",
    "The [tower of Hanoi](https://en.wikipedia.org/wiki/Tower_of_Hanoi) is a famous puzzle where we have three rods and **N** disks. The objective of the puzzle is to move the entire stack to another rod. You are given the number of discs **N**. Initially, these discs are in the rod 1. You need to print all the steps of discs movement so that all the discs reach the 3rd rod. Also, you need to find the total moves.**Note:** The discs are arranged such that the **top disc is numbered 1** and the **bottom-most disc is numbered N**. Also, all the discs have **different sizes** and a bigger disc **cannot** be put on the top of a smaller disc. Refer the provided link to get a better clarity about the puzzle.\n",
    "\n",
    "**Example 1:**\n",
    "Input:\n",
    "N = 2\n",
    "Output:\n",
    "move disk 1 from rod 1 to rod 2\n",
    "move disk 2 from rod 1 to rod 3\n",
    "move disk 1 from rod 2 to rod 3\n",
    "3\n",
    "Explanation:For N=2 , steps will be\n",
    "as follows in the example and total\n",
    "3 steps will be taken.\n",
    "Example 2:\n",
    "Input:\n",
    "N = 3\n",
    "Output:\n",
    "move disk 1 from rod 1 to rod 3\n",
    "move disk 2 from rod 1 to rod 2\n",
    "move disk 1 from rod 3 to rod 2\n",
    "move disk 3 from rod 1 to rod 3\n",
    "move disk 1 from rod 2 to rod 1\n",
    "move disk 2 from rod 2 to rod 3\n",
    "move disk 1 from rod 1 to rod 3\n",
    "7\n",
    "Explanation:For N=3 , steps will be\n",
    "as follows in the example and total\n",
    "7 steps will be taken."
   ]
  },
  {
   "cell_type": "code",
   "execution_count": 6,
   "id": "19158713",
   "metadata": {},
   "outputs": [
    {
     "name": "stdout",
     "output_type": "stream",
     "text": [
      "Move disk 1 from rod 1 to rod 2\n",
      "Move disk 2 from rod 1 to rod 3\n",
      "Move disk 1 from rod 2 to rod 3\n",
      "Total moves: 3\n",
      "Move disk 1 from rod 1 to rod 3\n",
      "Move disk 2 from rod 1 to rod 2\n",
      "Move disk 1 from rod 3 to rod 2\n",
      "Move disk 3 from rod 1 to rod 3\n",
      "Move disk 1 from rod 2 to rod 1\n",
      "Move disk 2 from rod 2 to rod 3\n",
      "Move disk 1 from rod 1 to rod 3\n",
      "Total moves: 7\n"
     ]
    }
   ],
   "source": [
    "def tower_of_hanoi(n, source, destination, auxiliary):\n",
    "    if n == 1:\n",
    "        print(f\"Move disk 1 from rod {source} to rod {destination}\")\n",
    "        return 1\n",
    "    else:\n",
    "        count = 0\n",
    "        count += tower_of_hanoi(n-1, source, auxiliary, destination)\n",
    "        print(f\"Move disk {n} from rod {source} to rod {destination}\")\n",
    "        count += 1\n",
    "        count += tower_of_hanoi(n-1, auxiliary, destination, source)\n",
    "        return count\n",
    "\n",
    "# Test the function\n",
    "N = 2\n",
    "total_moves = tower_of_hanoi(N, 1, 3, 2)\n",
    "print(f\"Total moves: {total_moves}\")\n",
    "\n",
    "N = 3\n",
    "total_moves = tower_of_hanoi(N, 1, 3, 2)\n",
    "print(f\"Total moves: {total_moves}\")\n"
   ]
  },
  {
   "cell_type": "markdown",
   "id": "75e22251",
   "metadata": {},
   "source": [
    "# **Question 7**\n",
    "\n",
    "Given a string **str**, the task is to print all the permutations of **str**. A **permutation** is an arrangement of all or part of a set of objects, with regard to the order of the arrangement. For instance, the words ‘bat’ and ‘tab’ represents two distinct permutation (or arrangements) of a similar three letter word.\n",
    "\n",
    "**Examples:**\n",
    "\n",
    "> Input: str = “cd”\n",
    "> \n",
    "> \n",
    "> **Output:** cd dc\n",
    "> \n",
    "> **Input:** str = “abb”\n",
    "> \n",
    "> **Output:** abb abb bab bba bab bba\n"
   ]
  },
  {
   "cell_type": "code",
   "execution_count": 7,
   "id": "cc88fb55",
   "metadata": {},
   "outputs": [
    {
     "name": "stdout",
     "output_type": "stream",
     "text": [
      "Permutations of cd : ['cd', 'dc']\n",
      "Permutations of abb : ['abb', 'abb', 'bab', 'bba', 'bab', 'bba']\n"
     ]
    }
   ],
   "source": [
    "def permutations(string):\n",
    "    # Base case: If the string has only one character, return the string itself\n",
    "    if len(string) == 1:\n",
    "        return [string]\n",
    "\n",
    "    # Recursive case: Generate permutations for each character in the string\n",
    "    perms = []\n",
    "    for i in range(len(string)):\n",
    "        # Select the current character as the first character\n",
    "        first_char = string[i]\n",
    "\n",
    "        # Generate permutations for the remaining characters\n",
    "        remaining_chars = string[:i] + string[i+1:]\n",
    "        sub_perms = permutations(remaining_chars)\n",
    "\n",
    "        # Append the first character to each permutation of the remaining characters\n",
    "        for perm in sub_perms:\n",
    "            perms.append(first_char + perm)\n",
    "\n",
    "    return perms\n",
    "\n",
    "# Test the function\n",
    "str = \"cd\"\n",
    "result = permutations(str)\n",
    "print(\"Permutations of\", str, \":\", result)\n",
    "\n",
    "str = \"abb\"\n",
    "result = permutations(str)\n",
    "print(\"Permutations of\", str, \":\", result)\n"
   ]
  },
  {
   "cell_type": "markdown",
   "id": "4f96cd6b",
   "metadata": {},
   "source": [
    "#  **Question 8**\n",
    "\n",
    "Given a string, count total number of consonants in it. A consonant is an English alphabet character that is not vowel (a, e, i, o and u). Examples of constants are b, c, d, f, and g.\n",
    "\n",
    "**Examples :**\n",
    "Input : abc de\n",
    "Output : 3\n",
    "There are three consonants b, c and d.\n",
    "\n",
    "Input : geeksforgeeks portal\n",
    "Output : 12"
   ]
  },
  {
   "cell_type": "code",
   "execution_count": 8,
   "id": "4d15e57e",
   "metadata": {},
   "outputs": [
    {
     "name": "stdout",
     "output_type": "stream",
     "text": [
      "Number of consonants in ' abc de ': 3\n",
      "Number of consonants in ' geeksforgeeks portal ': 12\n"
     ]
    }
   ],
   "source": [
    "def count_consonants(string):\n",
    "    consonants = \"bcdfghjklmnpqrstvwxyzBCDFGHJKLMNPQRSTVWXYZ\"\n",
    "    count = 0\n",
    "\n",
    "    for char in string:\n",
    "        if char in consonants:\n",
    "            count += 1\n",
    "\n",
    "    return count\n",
    "\n",
    "# Test the function\n",
    "str1 = \"abc de\"\n",
    "result1 = count_consonants(str1)\n",
    "print(\"Number of consonants in '\", str1, \"':\", result1)\n",
    "\n",
    "str2 = \"geeksforgeeks portal\"\n",
    "result2 = count_consonants(str2)\n",
    "print(\"Number of consonants in '\", str2, \"':\", result2)\n"
   ]
  },
  {
   "cell_type": "code",
   "execution_count": null,
   "id": "c7001188",
   "metadata": {},
   "outputs": [],
   "source": []
  }
 ],
 "metadata": {
  "kernelspec": {
   "display_name": "Python 3 (ipykernel)",
   "language": "python",
   "name": "python3"
  },
  "language_info": {
   "codemirror_mode": {
    "name": "ipython",
    "version": 3
   },
   "file_extension": ".py",
   "mimetype": "text/x-python",
   "name": "python",
   "nbconvert_exporter": "python",
   "pygments_lexer": "ipython3",
   "version": "3.9.12"
  }
 },
 "nbformat": 4,
 "nbformat_minor": 5
}
